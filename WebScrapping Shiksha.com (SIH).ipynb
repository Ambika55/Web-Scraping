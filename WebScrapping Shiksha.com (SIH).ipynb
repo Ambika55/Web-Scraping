{
 "cells": [
  {
   "cell_type": "code",
   "execution_count": 1,
   "metadata": {},
   "outputs": [],
   "source": [
    "from bs4 import BeautifulSoup\n",
    "import requests"
   ]
  },
  {
   "cell_type": "code",
   "execution_count": 3,
   "metadata": {},
   "outputs": [],
   "source": [
    "headers={\n",
    "    \"User-Agent\" : \"Mozilla/5.0 (X11; Ubuntu; Linux x86_64; rv:65.0) Gecko/20100101 Firefox/65.\"\n",
    "}\n",
    "\n",
    "r=requests.get(\"https://www.shiksha.com/mba/colleges/mba-colleges-india\",headers=headers)"
   ]
  },
  {
   "cell_type": "code",
   "execution_count": 33,
   "metadata": {},
   "outputs": [
    {
     "name": "stdout",
     "output_type": "stream",
     "text": [
      "{'Server': 'nginx', 'Content-Type': 'text/html; charset=utf-8', 'Vary': 'Accept-Encoding', 'ETag': 'W/\"b0345-aPEGU/jkOemHhG9U8nmQnFiNjYY\"', 'Content-Encoding': 'gzip', 'X-Akamai-Transformed': '9 - 0 pmb=mTOE,2', 'Expires': 'Thu, 14 Feb 2019 08:55:56 GMT', 'Cache-Control': 'max-age=0, no-cache, no-store', 'Pragma': 'no-cache', 'Date': 'Thu, 14 Feb 2019 08:55:56 GMT', 'Content-Length': '91864', 'Connection': 'keep-alive', 'Set-Cookie': '_csrf=EiNkSJU8oQC_e5e3UkyhAHja; Path=/, visitorId=pmwrh87386; Domain=.shiksha.com; Path=/; Expires=Thu, 14 Feb 2019 13:15:08 GMT, visitorSessionId=b773fdf9e6545bbe0790fc3c20c861e1c3ca56ad20190214142556; Domain=.shiksha.com; Path=/; Expires=Thu, 14 Feb 2019 08:55:58 GMT, lastVisitTime=1550134556; Domain=.shiksha.com; Path=/; Expires=Thu, 14 Feb 2019 08:55:58 GMT, ci_mobile=; Domain=.shiksha.com; Path=/; Expires=Thu, 01 Jan 1970 00:00:00 GMT, ci_mobile_js_support=; Domain=.shiksha.com; Path=/; Expires=Thu, 01 Jan 1970 00:00:00 GMT, ci_mobile_capbilities=; Domain=.shiksha.com; Path=/; Expires=Thu, 01 Jan 1970 00:00:00 GMT, siteview=desktop; Domain=.shiksha.com; Path=/; Expires=Thu, 14 Feb 2019 09:39:08 GMT, ctpgRandom=5103; Domain=.shiksha.com; Path=/, connect.sid=s%3Amnc6AxItByAvbWNUARzpnEpuxAil_eB9.VMsP7RfQohptfO76%2BEBCaifZmfi8wZLk3QE9zzVs6ew; Path=/; HttpOnly, ak_bmsc=EFA60F702788CA9396C6D142F3100EF87C7CC9DAD03100001C2D655CEDE67C5C~plFwGeEMn3dt2lrmO2DkDF4fmbz+6POlweXoKP62O3dDCfo/OEU10/1mTTMLzGbAatR1aCr394fK02k2qP810Nii/QzJS7EPOqiaViZUhpkbLbwwjmGGPOK59A6fyqi1hCHqeVJKcw4eHuc91D8KcSlwepj+GCJZzWwuGlHYSoQxLAqwr6elqGtSMI7nvP5/gcDN23BFcwr864uR4rvwn4vVrMdykQTOA6FGbdDqXYrxY=; expires=Thu, 14 Feb 2019 10:55:56 GMT; max-age=7200; path=/; domain=.shiksha.com; HttpOnly, bm_mi=6B9F9FF75867904828AE6E1001AE0B3E~vfuOWstmxHd8om0vGQgt9fil1/OuqBKOBAfVkf0Z0AWiuyDrdUQQoUkY069+lOVegt0kD8+goyhNLWUh1zK9ZMW/YYxWm5XgajNCOwf9zYxvOGQZAcj/1DImmPqJ8o+FAWF2eykgJMpxqH7KpehbHcD2ar8DrkEEOx+x4LFLMSA/miQBNY08Npxmeal72hSdonTSXgcDnYOXBTcx6YA7uVqoTfrWQzJ6qM2fvvkix19ldYztw7osZOlMM+CFCKCn1oVX1Yn2lit/JxJ8gLotpQ==; Domain=.shiksha.com; Path=/; Max-Age=0; HttpOnly'}\n"
     ]
    }
   ],
   "source": [
    "# print(r.text)\n",
    "print(r.headers)"
   ]
  },
  {
   "cell_type": "code",
   "execution_count": 7,
   "metadata": {},
   "outputs": [],
   "source": [
    "soup=BeautifulSoup(r.content)"
   ]
  },
  {
   "cell_type": "code",
   "execution_count": 31,
   "metadata": {},
   "outputs": [
    {
     "name": "stdout",
     "output_type": "stream",
     "text": [
      "TBS - Taxila Business School Jaipur\n",
      "Jaipur\n",
      "4.7Placements4.8Infrastructure4.5Faculty & Course Curriculum4.8Crowd & Campus Life4.6Worth the Money4.7View all 96 reviews\n",
      "4.7Placements4.8Infrastructure4.5Faculty & Course Curriculum4.8Crowd & Campus Life4.6Worth the Money4.7View all 96 reviews(96) | ₹ 8.50 Lakh | 2 years | Full Time\n",
      "Jaipuria Institute of Management, Lucknow - (Jaipuri...\n",
      "Lucknow\n",
      "3.9Placements3.8Infrastructure3.7Faculty & Course Curriculum4.4Crowd & Campus Life3.8Worth the Money3.8View all 88 reviews\n",
      "3.9Placements3.8Infrastructure3.7Faculty & Course Curriculum4.4Crowd & Campus Life3.8Worth the Money3.8View all 88 reviews(88) | ₹ 9.65 Lakh | 2 years | Full Time\n",
      "JIMS Rohini - Jagan Institute of Management Studies\n",
      "Rohini, Delhi\n",
      "4.0Placements3.9Infrastructure3.7Faculty & Course Curriculum4.4Crowd & Campus Life3.9Worth the Money4.1View all 75 reviews\n",
      "4.0Placements3.9Infrastructure3.7Faculty & Course Curriculum4.4Crowd & Campus Life3.9Worth the Money4.1View all 75 reviews(75) | ₹ 7.15 Lakh | 2 years | Full Time\n",
      "NDIM - New Delhi Institute of Management\n",
      "Tughlakabad, Delhi\n",
      "3.8Placements3.9Infrastructure3.6Faculty & Course Curriculum4.2Crowd & Campus Life3.7Worth the Money3.9View all 58 reviews\n",
      "3.8Placements3.9Infrastructure3.6Faculty & Course Curriculum4.2Crowd & Campus Life3.7Worth the Money3.9View all 58 reviews(58) | ₹ 8.25 Lakh | 2 years | Full Time\n",
      "SPM - School Of Petroleum Mangement PDPU\n",
      "Gandhinagar\n",
      "4.2Placements4.0Infrastructure4.3Faculty & Course Curriculum4.2Crowd & Campus Life4.4Worth the Money4.1View all 10 reviews\n",
      "4.2Placements4.0Infrastructure4.3Faculty & Course Curriculum4.2Crowd & Campus Life4.4Worth the Money4.1View all 10 reviews(10) | ₹ 8.20 Lakh | 2 years | Full Time\n",
      "VESIM - Vivekanand Education Society Institute Of Ma...\n",
      "Chembur, Mumbai\n",
      "4.0Placements4.1Infrastructure3.6Faculty & Course Curriculum4.1Crowd & Campus Life4.2Worth the Money4.1View all 9 reviews\n",
      "4.0Placements4.1Infrastructure3.6Faculty & Course Curriculum4.1Crowd & Campus Life4.2Worth the Money4.1View all 9 reviews(9) | ₹ 6.70 Lakh | 2 years | Full Time\n",
      "Jaipuria Institute of Management, Jaipur - (Jaipuria...\n",
      "Jaipur\n",
      "4.4Placements4.3Infrastructure4.5Faculty & Course Curriculum4.4Crowd & Campus Life4.4Worth the Money4.3View all 85 reviews\n",
      "4.4Placements4.3Infrastructure4.5Faculty & Course Curriculum4.4Crowd & Campus Life4.4Worth the Money4.3View all 85 reviews(85) | ₹ 7.45 Lakh | 2 years | Full Time\n",
      "Rajagiri Centre for Business Studies - RCBS\n",
      "Kochi\n",
      "4.3Placements4.0Infrastructure4.7Faculty & Course Curriculum4.2Crowd & Campus Life4.4Worth the Money4.3View all 62 reviews\n",
      "4.3Placements4.0Infrastructure4.7Faculty & Course Curriculum4.2Crowd & Campus Life4.4Worth the Money4.3View all 62 reviews(62) | ₹ 6.50 Lakh | 2 years | Full Time\n",
      "IPE - Institute Of Public Enterprise\n",
      "Shamirpet, Hyderabad\n",
      "3.9Placements3.7Infrastructure4.5Faculty & Course Curriculum4.1Crowd & Campus Life4.1Worth the Money3.5View all 15 reviews\n",
      "3.9Placements3.7Infrastructure4.5Faculty & Course Curriculum4.1Crowd & Campus Life4.1Worth the Money3.5View all 15 reviews(15) | ₹ 8.15 Lakh | 2 years | Full Time\n",
      "Empi Business School - EMPI\n",
      "Chattarpur, Delhi\n",
      "3.6Placements3.7Infrastructure3.3Faculty & Course Curriculum4.5Crowd & Campus Life3.8Worth the Money3.0View all 13 reviews\n",
      "3.6Placements3.7Infrastructure3.3Faculty & Course Curriculum4.5Crowd & Campus Life3.8Worth the Money3.0View all 13 reviews(13) | ₹ 7.25 Lakh | 2 years | Full Time\n",
      "TAPMI Jaipur - Tapmi School Of Business\n",
      "Jaipur\n",
      "4.3Placements3.7Infrastructure5.0Faculty & Course Curriculum4.3Crowd & Campus Life4.3Worth the Money4.0View all 3 reviews\n",
      "4.3Placements3.7Infrastructure5.0Faculty & Course Curriculum4.3Crowd & Campus Life4.3Worth the Money4.0View all 3 reviews(3) | ₹ 7.09 Lakh | 2 years | Full Time\n",
      "Jaipuria Noida - Jaipuria Institute Of Management (JIM)\n",
      "Noida\n",
      "3.9Placements3.8Infrastructure4.0Faculty & Course Curriculum4.2Crowd & Campus Life3.8Worth the Money3.8View all 136 reviews\n",
      "3.9Placements3.8Infrastructure4.0Faculty & Course Curriculum4.2Crowd & Campus Life3.8Worth the Money3.8View all 136 reviews(136) | ₹ 9.65 Lakh | 2 years | Full Time\n",
      "National Insurance Academy- NIA\n",
      "Balewadi, Pune\n",
      "4.4Placements4.5Infrastructure4.7Faculty & Course Curriculum4.2Crowd & Campus Life4.3Worth the Money4.5View all 24 reviews\n",
      "4.4Placements4.5Infrastructure4.7Faculty & Course Curriculum4.2Crowd & Campus Life4.3Worth the Money4.5View all 24 reviews(24) | ₹ 11.25 Lakh | 2 years | Full Time\n",
      "BIMM - Balaji Institute of Modern Management, Sri Ba...\n",
      "Tathawade, Pune\n",
      "4.2Placements4.1Infrastructure4.4Faculty & Course Curriculum4.2Crowd & Campus Life4.2Worth the Money4.2View all 35 reviews\n",
      "4.2Placements4.1Infrastructure4.4Faculty & Course Curriculum4.2Crowd & Campus Life4.2Worth the Money4.2View all 35 reviews(35) | ₹ 8.10 Lakh | 2 years | Full Time\n",
      "International School of Management and Research- ISMR\n",
      "Hadapsar, Pune\n",
      "4.7Placements4.7Infrastructure4.5Faculty & Course Curriculum5.0Crowd & Campus Life4.7Worth the Money4.5View all 6 reviews\n",
      "4.7Placements4.7Infrastructure4.5Faculty & Course Curriculum5.0Crowd & Campus Life4.7Worth the Money4.5View all 6 reviews(6) | ₹ 6.50 Lakh | 2 years | Full Time\n",
      "GITAM Hyderabad Business School\n",
      "Patancheru, Hyderabad\n",
      "4.0Placements3.3Infrastructure4.3Faculty & Course Curriculum4.5Crowd & Campus Life4.0Worth the Money4.0View all 10 reviews\n",
      "4.0Placements3.3Infrastructure4.3Faculty & Course Curriculum4.5Crowd & Campus Life4.0Worth the Money4.0View all 10 reviews(10) | ₹ 7.20 Lakh | 2 years | Full Time\n",
      "KVIMIS - KV Institute of Management and Information ...\n",
      "Coimbatore\n",
      "4.5Placements4.2Infrastructure4.7Faculty & Course Curriculum4.7Crowd & Campus Life4.3Worth the Money4.7View all 6 reviews\n",
      "4.5Placements4.2Infrastructure4.7Faculty & Course Curriculum4.7Crowd & Campus Life4.3Worth the Money4.7View all 6 reviews(6) | ₹ 3.44 Lakh | 2 years | Full Time\n",
      "BIIB - Balaji Institute Of International Business, S...\n",
      "Tathawade, Pune\n",
      "4.4Placements4.7Infrastructure4.7Faculty & Course Curriculum4.3Crowd & Campus Life4.0Worth the Money4.3View all 6 reviews\n",
      "4.4Placements4.7Infrastructure4.7Faculty & Course Curriculum4.3Crowd & Campus Life4.0Worth the Money4.3View all 6 reviews(6) | ₹ 8.10 Lakh | 2 years | Full Time\n",
      "AIMS Institute of Management Studies\n",
      "Kondhwa Budruk, Pune\n",
      "4.2Placements4.3Infrastructure4.0Faculty & Course Curriculum4.7Crowd & Campus Life4.0Worth the Money4.0View all 3 reviews\n",
      "4.2Placements4.3Infrastructure4.0Faculty & Course Curriculum4.7Crowd & Campus Life4.0Worth the Money4.0View all 3 reviews(3) | ₹ 3.69 Lakh | 2 years | Full Time\n",
      "BITM - Balaji Institute Of Telecom And Management, S...\n",
      "Tathawade, Pune\n",
      "4.4Placements4.3Infrastructure4.5Faculty & Course Curriculum4.4Crowd & Campus Life4.7Worth the Money4.3View all 11 reviews\n",
      "4.4Placements4.3Infrastructure4.5Faculty & Course Curriculum4.4Crowd & Campus Life4.7Worth the Money4.3View all 11 reviews(11) | ₹ 8.10 Lakh | 2 years | Full Time\n",
      "Amity University, Mumbai\n",
      "Panvel, Mumbai\n"
     ]
    },
    {
     "ename": "AttributeError",
     "evalue": "'NoneType' object has no attribute 'text'",
     "output_type": "error",
     "traceback": [
      "\u001b[0;31m---------------------------------------------------------------------------\u001b[0m",
      "\u001b[0;31mAttributeError\u001b[0m                            Traceback (most recent call last)",
      "\u001b[0;32m<ipython-input-31-ca5dada710ba>\u001b[0m in \u001b[0;36m<module>\u001b[0;34m()\u001b[0m\n\u001b[1;32m     13\u001b[0m         \u001b[0mprint\u001b[0m\u001b[0;34m(\u001b[0m\u001b[0mloc\u001b[0m\u001b[0;34m.\u001b[0m\u001b[0mtext\u001b[0m\u001b[0;34m)\u001b[0m\u001b[0;34m\u001b[0m\u001b[0;34m\u001b[0m\u001b[0m\n\u001b[1;32m     14\u001b[0m         \u001b[0mrating\u001b[0m\u001b[0;34m=\u001b[0m\u001b[0mc\u001b[0m\u001b[0;34m.\u001b[0m\u001b[0mfind\u001b[0m\u001b[0;34m(\u001b[0m\u001b[0;34m'span'\u001b[0m\u001b[0;34m,\u001b[0m \u001b[0mattrs\u001b[0m\u001b[0;34m=\u001b[0m\u001b[0;34m{\u001b[0m\u001b[0;34m\"class\"\u001b[0m\u001b[0;34m:\u001b[0m\u001b[0;34m\"rating-block rvw-lyr\"\u001b[0m\u001b[0;34m}\u001b[0m\u001b[0;34m)\u001b[0m\u001b[0;34m\u001b[0m\u001b[0;34m\u001b[0m\u001b[0m\n\u001b[0;32m---> 15\u001b[0;31m         \u001b[0mprint\u001b[0m\u001b[0;34m(\u001b[0m\u001b[0mrating\u001b[0m\u001b[0;34m.\u001b[0m\u001b[0mtext\u001b[0m\u001b[0;34m)\u001b[0m\u001b[0;34m\u001b[0m\u001b[0;34m\u001b[0m\u001b[0m\n\u001b[0m\u001b[1;32m     16\u001b[0m         \u001b[0md\u001b[0m\u001b[0;34m=\u001b[0m\u001b[0mc\u001b[0m\u001b[0;34m.\u001b[0m\u001b[0mfind\u001b[0m\u001b[0;34m(\u001b[0m\u001b[0;34m'div'\u001b[0m\u001b[0;34m,\u001b[0m \u001b[0mattrs\u001b[0m\u001b[0;34m=\u001b[0m\u001b[0;34m{\u001b[0m\u001b[0;34m\"class\"\u001b[0m\u001b[0;34m:\u001b[0m\u001b[0;34m\"ctp-detail\"\u001b[0m\u001b[0;34m}\u001b[0m\u001b[0;34m)\u001b[0m\u001b[0;34m\u001b[0m\u001b[0;34m\u001b[0m\u001b[0m\n\u001b[1;32m     17\u001b[0m         \u001b[0mprint\u001b[0m\u001b[0;34m(\u001b[0m\u001b[0md\u001b[0m\u001b[0;34m.\u001b[0m\u001b[0mtext\u001b[0m\u001b[0;34m)\u001b[0m\u001b[0;34m\u001b[0m\u001b[0;34m\u001b[0m\u001b[0m\n",
      "\u001b[0;31mAttributeError\u001b[0m: 'NoneType' object has no attribute 'text'"
     ]
    }
   ],
   "source": [
    "count=0\n",
    "for section in soup.findAll('section', attrs={\"class\":'ctp_container'}):\n",
    "    college= section.findAll('div',attrs={'class':\"ctpSrp-tuple\"})\n",
    "    \n",
    "#     rating= find('span',attrs={'class':'rating-block rvw-lyr'})\n",
    "    \n",
    "#     print(college.text)\n",
    "    for c in college:\n",
    "        count= count+1\n",
    "        name=c.find('p', attrs={\"class\":\"ctpIns-tl\"})\n",
    "        print(name.text)\n",
    "        loc=c.find('p', attrs={\"class\":\"ctp-cty\"})\n",
    "        print(loc.text)\n",
    "        rating=c.find('span', attrs={\"class\":\"rating-block rvw-lyr\"})\n",
    "        print(rating.text)\n",
    "        d=c.find('div', attrs={\"class\":\"ctp-detail\"})\n",
    "        print(d.text)\n"
   ]
  },
  {
   "cell_type": "code",
   "execution_count": 32,
   "metadata": {},
   "outputs": [
    {
     "name": "stdout",
     "output_type": "stream",
     "text": [
      "21\n"
     ]
    }
   ],
   "source": [
    "print(count)"
   ]
  },
  {
   "cell_type": "code",
   "execution_count": null,
   "metadata": {},
   "outputs": [],
   "source": []
  }
 ],
 "metadata": {
  "kernelspec": {
   "display_name": "Python 3",
   "language": "python",
   "name": "python3"
  },
  "language_info": {
   "codemirror_mode": {
    "name": "ipython",
    "version": 3
   },
   "file_extension": ".py",
   "mimetype": "text/x-python",
   "name": "python",
   "nbconvert_exporter": "python",
   "pygments_lexer": "ipython3",
   "version": "3.6.7"
  }
 },
 "nbformat": 4,
 "nbformat_minor": 2
}
